{
 "cells": [
  {
   "cell_type": "markdown",
   "id": "4f9f734c",
   "metadata": {},
   "source": [
    "# 1. Determine the top three most common cuisines in the dataset.***"
   ]
  },
  {
   "cell_type": "code",
   "execution_count": 1,
   "id": "0a32a9cc",
   "metadata": {},
   "outputs": [],
   "source": [
    "import numpy as np\n",
    "import pandas as pd\n",
    "import matplotlib.pyplot as plt\n",
    "import seaborn as sns"
   ]
  },
  {
   "cell_type": "code",
   "execution_count": 2,
   "id": "cfa8bcb6",
   "metadata": {},
   "outputs": [],
   "source": [
    "#Loading the dataset into a DataFrame\n",
    "data= pd.read_csv('Dataset .csv')"
   ]
  },
  {
   "cell_type": "code",
   "execution_count": 3,
   "id": "0a967f5e",
   "metadata": {},
   "outputs": [
    {
     "data": {
      "text/html": [
       "<div>\n",
       "<style scoped>\n",
       "    .dataframe tbody tr th:only-of-type {\n",
       "        vertical-align: middle;\n",
       "    }\n",
       "\n",
       "    .dataframe tbody tr th {\n",
       "        vertical-align: top;\n",
       "    }\n",
       "\n",
       "    .dataframe thead th {\n",
       "        text-align: right;\n",
       "    }\n",
       "</style>\n",
       "<table border=\"1\" class=\"dataframe\">\n",
       "  <thead>\n",
       "    <tr style=\"text-align: right;\">\n",
       "      <th></th>\n",
       "      <th>Restaurant ID</th>\n",
       "      <th>Restaurant Name</th>\n",
       "      <th>Country Code</th>\n",
       "      <th>City</th>\n",
       "      <th>Address</th>\n",
       "      <th>Locality</th>\n",
       "      <th>Locality Verbose</th>\n",
       "      <th>Longitude</th>\n",
       "      <th>Latitude</th>\n",
       "      <th>Cuisines</th>\n",
       "      <th>...</th>\n",
       "      <th>Currency</th>\n",
       "      <th>Has Table booking</th>\n",
       "      <th>Has Online delivery</th>\n",
       "      <th>Is delivering now</th>\n",
       "      <th>Switch to order menu</th>\n",
       "      <th>Price range</th>\n",
       "      <th>Aggregate rating</th>\n",
       "      <th>Rating color</th>\n",
       "      <th>Rating text</th>\n",
       "      <th>Votes</th>\n",
       "    </tr>\n",
       "  </thead>\n",
       "  <tbody>\n",
       "    <tr>\n",
       "      <th>0</th>\n",
       "      <td>6317637</td>\n",
       "      <td>Le Petit Souffle</td>\n",
       "      <td>162</td>\n",
       "      <td>Makati City</td>\n",
       "      <td>Third Floor, Century City Mall, Kalayaan Avenu...</td>\n",
       "      <td>Century City Mall, Poblacion, Makati City</td>\n",
       "      <td>Century City Mall, Poblacion, Makati City, Mak...</td>\n",
       "      <td>121.027535</td>\n",
       "      <td>14.565443</td>\n",
       "      <td>French, Japanese, Desserts</td>\n",
       "      <td>...</td>\n",
       "      <td>Botswana Pula(P)</td>\n",
       "      <td>Yes</td>\n",
       "      <td>No</td>\n",
       "      <td>No</td>\n",
       "      <td>No</td>\n",
       "      <td>3</td>\n",
       "      <td>4.8</td>\n",
       "      <td>Dark Green</td>\n",
       "      <td>Excellent</td>\n",
       "      <td>314</td>\n",
       "    </tr>\n",
       "    <tr>\n",
       "      <th>1</th>\n",
       "      <td>6304287</td>\n",
       "      <td>Izakaya Kikufuji</td>\n",
       "      <td>162</td>\n",
       "      <td>Makati City</td>\n",
       "      <td>Little Tokyo, 2277 Chino Roces Avenue, Legaspi...</td>\n",
       "      <td>Little Tokyo, Legaspi Village, Makati City</td>\n",
       "      <td>Little Tokyo, Legaspi Village, Makati City, Ma...</td>\n",
       "      <td>121.014101</td>\n",
       "      <td>14.553708</td>\n",
       "      <td>Japanese</td>\n",
       "      <td>...</td>\n",
       "      <td>Botswana Pula(P)</td>\n",
       "      <td>Yes</td>\n",
       "      <td>No</td>\n",
       "      <td>No</td>\n",
       "      <td>No</td>\n",
       "      <td>3</td>\n",
       "      <td>4.5</td>\n",
       "      <td>Dark Green</td>\n",
       "      <td>Excellent</td>\n",
       "      <td>591</td>\n",
       "    </tr>\n",
       "    <tr>\n",
       "      <th>2</th>\n",
       "      <td>6300002</td>\n",
       "      <td>Heat - Edsa Shangri-La</td>\n",
       "      <td>162</td>\n",
       "      <td>Mandaluyong City</td>\n",
       "      <td>Edsa Shangri-La, 1 Garden Way, Ortigas, Mandal...</td>\n",
       "      <td>Edsa Shangri-La, Ortigas, Mandaluyong City</td>\n",
       "      <td>Edsa Shangri-La, Ortigas, Mandaluyong City, Ma...</td>\n",
       "      <td>121.056831</td>\n",
       "      <td>14.581404</td>\n",
       "      <td>Seafood, Asian, Filipino, Indian</td>\n",
       "      <td>...</td>\n",
       "      <td>Botswana Pula(P)</td>\n",
       "      <td>Yes</td>\n",
       "      <td>No</td>\n",
       "      <td>No</td>\n",
       "      <td>No</td>\n",
       "      <td>4</td>\n",
       "      <td>4.4</td>\n",
       "      <td>Green</td>\n",
       "      <td>Very Good</td>\n",
       "      <td>270</td>\n",
       "    </tr>\n",
       "    <tr>\n",
       "      <th>3</th>\n",
       "      <td>6318506</td>\n",
       "      <td>Ooma</td>\n",
       "      <td>162</td>\n",
       "      <td>Mandaluyong City</td>\n",
       "      <td>Third Floor, Mega Fashion Hall, SM Megamall, O...</td>\n",
       "      <td>SM Megamall, Ortigas, Mandaluyong City</td>\n",
       "      <td>SM Megamall, Ortigas, Mandaluyong City, Mandal...</td>\n",
       "      <td>121.056475</td>\n",
       "      <td>14.585318</td>\n",
       "      <td>Japanese, Sushi</td>\n",
       "      <td>...</td>\n",
       "      <td>Botswana Pula(P)</td>\n",
       "      <td>No</td>\n",
       "      <td>No</td>\n",
       "      <td>No</td>\n",
       "      <td>No</td>\n",
       "      <td>4</td>\n",
       "      <td>4.9</td>\n",
       "      <td>Dark Green</td>\n",
       "      <td>Excellent</td>\n",
       "      <td>365</td>\n",
       "    </tr>\n",
       "    <tr>\n",
       "      <th>4</th>\n",
       "      <td>6314302</td>\n",
       "      <td>Sambo Kojin</td>\n",
       "      <td>162</td>\n",
       "      <td>Mandaluyong City</td>\n",
       "      <td>Third Floor, Mega Atrium, SM Megamall, Ortigas...</td>\n",
       "      <td>SM Megamall, Ortigas, Mandaluyong City</td>\n",
       "      <td>SM Megamall, Ortigas, Mandaluyong City, Mandal...</td>\n",
       "      <td>121.057508</td>\n",
       "      <td>14.584450</td>\n",
       "      <td>Japanese, Korean</td>\n",
       "      <td>...</td>\n",
       "      <td>Botswana Pula(P)</td>\n",
       "      <td>Yes</td>\n",
       "      <td>No</td>\n",
       "      <td>No</td>\n",
       "      <td>No</td>\n",
       "      <td>4</td>\n",
       "      <td>4.8</td>\n",
       "      <td>Dark Green</td>\n",
       "      <td>Excellent</td>\n",
       "      <td>229</td>\n",
       "    </tr>\n",
       "  </tbody>\n",
       "</table>\n",
       "<p>5 rows × 21 columns</p>\n",
       "</div>"
      ],
      "text/plain": [
       "   Restaurant ID         Restaurant Name  Country Code              City  \\\n",
       "0        6317637        Le Petit Souffle           162       Makati City   \n",
       "1        6304287        Izakaya Kikufuji           162       Makati City   \n",
       "2        6300002  Heat - Edsa Shangri-La           162  Mandaluyong City   \n",
       "3        6318506                    Ooma           162  Mandaluyong City   \n",
       "4        6314302             Sambo Kojin           162  Mandaluyong City   \n",
       "\n",
       "                                             Address  \\\n",
       "0  Third Floor, Century City Mall, Kalayaan Avenu...   \n",
       "1  Little Tokyo, 2277 Chino Roces Avenue, Legaspi...   \n",
       "2  Edsa Shangri-La, 1 Garden Way, Ortigas, Mandal...   \n",
       "3  Third Floor, Mega Fashion Hall, SM Megamall, O...   \n",
       "4  Third Floor, Mega Atrium, SM Megamall, Ortigas...   \n",
       "\n",
       "                                     Locality  \\\n",
       "0   Century City Mall, Poblacion, Makati City   \n",
       "1  Little Tokyo, Legaspi Village, Makati City   \n",
       "2  Edsa Shangri-La, Ortigas, Mandaluyong City   \n",
       "3      SM Megamall, Ortigas, Mandaluyong City   \n",
       "4      SM Megamall, Ortigas, Mandaluyong City   \n",
       "\n",
       "                                    Locality Verbose   Longitude   Latitude  \\\n",
       "0  Century City Mall, Poblacion, Makati City, Mak...  121.027535  14.565443   \n",
       "1  Little Tokyo, Legaspi Village, Makati City, Ma...  121.014101  14.553708   \n",
       "2  Edsa Shangri-La, Ortigas, Mandaluyong City, Ma...  121.056831  14.581404   \n",
       "3  SM Megamall, Ortigas, Mandaluyong City, Mandal...  121.056475  14.585318   \n",
       "4  SM Megamall, Ortigas, Mandaluyong City, Mandal...  121.057508  14.584450   \n",
       "\n",
       "                           Cuisines  ...          Currency Has Table booking  \\\n",
       "0        French, Japanese, Desserts  ...  Botswana Pula(P)               Yes   \n",
       "1                          Japanese  ...  Botswana Pula(P)               Yes   \n",
       "2  Seafood, Asian, Filipino, Indian  ...  Botswana Pula(P)               Yes   \n",
       "3                   Japanese, Sushi  ...  Botswana Pula(P)                No   \n",
       "4                  Japanese, Korean  ...  Botswana Pula(P)               Yes   \n",
       "\n",
       "  Has Online delivery Is delivering now Switch to order menu Price range  \\\n",
       "0                  No                No                   No           3   \n",
       "1                  No                No                   No           3   \n",
       "2                  No                No                   No           4   \n",
       "3                  No                No                   No           4   \n",
       "4                  No                No                   No           4   \n",
       "\n",
       "   Aggregate rating  Rating color Rating text Votes  \n",
       "0               4.8    Dark Green   Excellent   314  \n",
       "1               4.5    Dark Green   Excellent   591  \n",
       "2               4.4         Green   Very Good   270  \n",
       "3               4.9    Dark Green   Excellent   365  \n",
       "4               4.8    Dark Green   Excellent   229  \n",
       "\n",
       "[5 rows x 21 columns]"
      ]
     },
     "execution_count": 3,
     "metadata": {},
     "output_type": "execute_result"
    }
   ],
   "source": [
    "data.head()"
   ]
  },
  {
   "cell_type": "code",
   "execution_count": 4,
   "id": "332d8418",
   "metadata": {},
   "outputs": [
    {
     "data": {
      "text/plain": [
       "Restaurant ID           9551\n",
       "Restaurant Name         9551\n",
       "Country Code            9551\n",
       "City                    9551\n",
       "Address                 9551\n",
       "Locality                9551\n",
       "Locality Verbose        9551\n",
       "Longitude               9551\n",
       "Latitude                9551\n",
       "Cuisines                9551\n",
       "Average Cost for two    9551\n",
       "Currency                9551\n",
       "Has Table booking       9551\n",
       "Has Online delivery     9551\n",
       "Is delivering now       9551\n",
       "Switch to order menu    9551\n",
       "Price range             9551\n",
       "Aggregate rating        9551\n",
       "Rating color            9551\n",
       "Rating text             9551\n",
       "Votes                   9551\n",
       "dtype: int64"
      ]
     },
     "execution_count": 4,
     "metadata": {},
     "output_type": "execute_result"
    }
   ],
   "source": [
    "data.isnull().count()"
   ]
  },
  {
   "cell_type": "code",
   "execution_count": 5,
   "id": "db8d4fe4",
   "metadata": {},
   "outputs": [
    {
     "data": {
      "text/plain": [
       "0             French, Japanese, Desserts\n",
       "1                               Japanese\n",
       "2       Seafood, Asian, Filipino, Indian\n",
       "3                        Japanese, Sushi\n",
       "4                       Japanese, Korean\n",
       "                      ...               \n",
       "9546                             Turkish\n",
       "9547     World Cuisine, Patisserie, Cafe\n",
       "9548              Italian, World Cuisine\n",
       "9549                     Restaurant Cafe\n",
       "9550                                Cafe\n",
       "Name: Cuisines, Length: 9551, dtype: object"
      ]
     },
     "execution_count": 5,
     "metadata": {},
     "output_type": "execute_result"
    }
   ],
   "source": [
    "# Viewing that which types of cuisines are available in the column.\n",
    "data['Cuisines']"
   ]
  },
  {
   "cell_type": "code",
   "execution_count": 6,
   "id": "bf4d2042",
   "metadata": {},
   "outputs": [],
   "source": [
    "# Count the occurrences of each cuisine and sort them in descending order\n",
    "counts_cuisine = data['Cuisines'].value_counts().sort_values(ascending=False)"
   ]
  },
  {
   "cell_type": "code",
   "execution_count": 7,
   "id": "adf54769",
   "metadata": {},
   "outputs": [],
   "source": [
    "# Getting the top three most common cuisines\n",
    "top_three_cuisines = counts_cuisine = counts_cuisine.head(3)"
   ]
  },
  {
   "cell_type": "code",
   "execution_count": 8,
   "id": "d87f7fe7",
   "metadata": {
    "scrolled": false
   },
   "outputs": [
    {
     "name": "stdout",
     "output_type": "stream",
     "text": [
      "Top three most common cuisines: \n",
      " North Indian             936\n",
      "North Indian, Chinese    511\n",
      "Chinese                  354\n",
      "Name: Cuisines, dtype: int64\n"
     ]
    }
   ],
   "source": [
    "# Printing the Top 3 Cuisines\n",
    "print(\"Top three most common cuisines:\",\"\\n\",top_three_cuisines)"
   ]
  },
  {
   "cell_type": "markdown",
   "id": "f4db2fb3",
   "metadata": {},
   "source": [
    "# 2.Calculate the percentage of restaurants that serve each of the top cuisines."
   ]
  },
  {
   "cell_type": "code",
   "execution_count": 9,
   "id": "f248995b",
   "metadata": {},
   "outputs": [
    {
     "data": {
      "text/plain": [
       "Index(['Restaurant ID', 'Restaurant Name', 'Country Code', 'City', 'Address',\n",
       "       'Locality', 'Locality Verbose', 'Longitude', 'Latitude', 'Cuisines',\n",
       "       'Average Cost for two', 'Currency', 'Has Table booking',\n",
       "       'Has Online delivery', 'Is delivering now', 'Switch to order menu',\n",
       "       'Price range', 'Aggregate rating', 'Rating color', 'Rating text',\n",
       "       'Votes'],\n",
       "      dtype='object')"
      ]
     },
     "execution_count": 9,
     "metadata": {},
     "output_type": "execute_result"
    }
   ],
   "source": [
    "# Get all columns in dataset\n",
    "data.columns"
   ]
  },
  {
   "cell_type": "code",
   "execution_count": 10,
   "id": "277ff9e8",
   "metadata": {},
   "outputs": [
    {
     "data": {
      "text/plain": [
       "0               Le Petit Souffle\n",
       "1               Izakaya Kikufuji\n",
       "2         Heat - Edsa Shangri-La\n",
       "3                           Ooma\n",
       "4                    Sambo Kojin\n",
       "                  ...           \n",
       "9546                 Naml۱ Gurme\n",
       "9547                Ceviz A��ac۱\n",
       "9548                       Huqqa\n",
       "9549                 A���k Kahve\n",
       "9550    Walter's Coffee Roastery\n",
       "Name: Restaurant Name, Length: 9551, dtype: object"
      ]
     },
     "execution_count": 10,
     "metadata": {},
     "output_type": "execute_result"
    }
   ],
   "source": [
    "# Get restaurant data\n",
    "data['Restaurant Name']"
   ]
  },
  {
   "cell_type": "code",
   "execution_count": 11,
   "id": "57c134ea",
   "metadata": {},
   "outputs": [],
   "source": [
    "# Calculating the total no of Restaurant available in dataset\n",
    "total_restaurant= data['Restaurant Name'].count()"
   ]
  },
  {
   "cell_type": "code",
   "execution_count": 12,
   "id": "cd54a7eb",
   "metadata": {},
   "outputs": [],
   "source": [
    "# Calculating the percentage of restaurants that serve each of the top cuisines\n",
    "percentage = (top_three_cuisines / total_restaurant)*100"
   ]
  },
  {
   "cell_type": "code",
   "execution_count": 13,
   "id": "47d85cb1",
   "metadata": {},
   "outputs": [
    {
     "name": "stdout",
     "output_type": "stream",
     "text": [
      "Percentage of restaurants that serve each of the top cuisines: \n",
      " North Indian             9.800021\n",
      "North Indian, Chinese    5.350225\n",
      "Chinese                  3.706418\n",
      "Name: Cuisines, dtype: float64\n"
     ]
    }
   ],
   "source": [
    "# Calculating the percentage of restaurants that serve each of the top cuisines\n",
    "print(\"Percentage of restaurants that serve each of the top cuisines:\", \"\\n\", percentage)"
   ]
  },
  {
   "cell_type": "markdown",
   "id": "ece91bee",
   "metadata": {},
   "source": [
    "# 3. Identify the city with the highest number of restaurants in the dataset."
   ]
  },
  {
   "cell_type": "code",
   "execution_count": 14,
   "id": "9fc6356f",
   "metadata": {},
   "outputs": [
    {
     "data": {
      "text/plain": [
       "Index(['Restaurant ID', 'Restaurant Name', 'Country Code', 'City', 'Address',\n",
       "       'Locality', 'Locality Verbose', 'Longitude', 'Latitude', 'Cuisines',\n",
       "       'Average Cost for two', 'Currency', 'Has Table booking',\n",
       "       'Has Online delivery', 'Is delivering now', 'Switch to order menu',\n",
       "       'Price range', 'Aggregate rating', 'Rating color', 'Rating text',\n",
       "       'Votes'],\n",
       "      dtype='object')"
      ]
     },
     "execution_count": 14,
     "metadata": {},
     "output_type": "execute_result"
    }
   ],
   "source": [
    "data.columns"
   ]
  },
  {
   "cell_type": "code",
   "execution_count": 15,
   "id": "9ab61ab1",
   "metadata": {},
   "outputs": [
    {
     "data": {
      "text/plain": [
       "0               Le Petit Souffle\n",
       "1               Izakaya Kikufuji\n",
       "2         Heat - Edsa Shangri-La\n",
       "3                           Ooma\n",
       "4                    Sambo Kojin\n",
       "                  ...           \n",
       "9546                 Naml۱ Gurme\n",
       "9547                Ceviz A��ac۱\n",
       "9548                       Huqqa\n",
       "9549                 A���k Kahve\n",
       "9550    Walter's Coffee Roastery\n",
       "Name: Restaurant Name, Length: 9551, dtype: object"
      ]
     },
     "execution_count": 15,
     "metadata": {},
     "output_type": "execute_result"
    }
   ],
   "source": [
    "data['Restaurant Name']"
   ]
  },
  {
   "cell_type": "code",
   "execution_count": 16,
   "id": "abd10ea3",
   "metadata": {},
   "outputs": [
    {
     "data": {
      "text/plain": [
       "'�ukura��a Sofras۱'"
      ]
     },
     "execution_count": 16,
     "metadata": {},
     "output_type": "execute_result"
    }
   ],
   "source": [
    "#The highest number of restaurants in the dataset.\n",
    "data['Restaurant Name'].max()"
   ]
  },
  {
   "cell_type": "markdown",
   "id": "52b2d514",
   "metadata": {},
   "source": [
    "# 4.Calculate the average rating for restaurants in each city."
   ]
  },
  {
   "cell_type": "code",
   "execution_count": 17,
   "id": "dd6730e5",
   "metadata": {},
   "outputs": [
    {
     "data": {
      "text/plain": [
       "0            Makati City\n",
       "1            Makati City\n",
       "2       Mandaluyong City\n",
       "3       Mandaluyong City\n",
       "4       Mandaluyong City\n",
       "              ...       \n",
       "9546           ��stanbul\n",
       "9547           ��stanbul\n",
       "9548           ��stanbul\n",
       "9549           ��stanbul\n",
       "9550           ��stanbul\n",
       "Name: City, Length: 9551, dtype: object"
      ]
     },
     "execution_count": 17,
     "metadata": {},
     "output_type": "execute_result"
    }
   ],
   "source": [
    "data['City']"
   ]
  },
  {
   "cell_type": "code",
   "execution_count": 18,
   "id": "0a730fb2",
   "metadata": {},
   "outputs": [
    {
     "data": {
      "text/plain": [
       "2.66637001361114"
      ]
     },
     "execution_count": 18,
     "metadata": {},
     "output_type": "execute_result"
    }
   ],
   "source": [
    "# Calculating the mean for ratings\n",
    "data['Aggregate rating'].mean()"
   ]
  },
  {
   "cell_type": "code",
   "execution_count": 19,
   "id": "3892fde8",
   "metadata": {},
   "outputs": [],
   "source": [
    "avg_rating_by_city= data.groupby('City')['Aggregate rating'].mean()"
   ]
  },
  {
   "cell_type": "code",
   "execution_count": 20,
   "id": "db27c7c6",
   "metadata": {},
   "outputs": [
    {
     "name": "stdout",
     "output_type": "stream",
     "text": [
      "Average rating for restaurants in each city: City\n",
      "Abu Dhabi          4.300000\n",
      "Agra               3.965000\n",
      "Ahmedabad          4.161905\n",
      "Albany             3.555000\n",
      "Allahabad          3.395000\n",
      "                     ...   \n",
      "Weirton            3.900000\n",
      "Wellington City    4.250000\n",
      "Winchester Bay     3.200000\n",
      "Yorkton            3.300000\n",
      "��stanbul          4.292857\n",
      "Name: Aggregate rating, Length: 141, dtype: float64\n"
     ]
    }
   ],
   "source": [
    "# Print the average rating for restaurants\n",
    "print(\"Average rating for restaurants in each city:\", avg_rating_by_city)"
   ]
  },
  {
   "cell_type": "markdown",
   "id": "c2bc20f4",
   "metadata": {},
   "source": [
    "# 5.Determine the city with the highest average rating."
   ]
  },
  {
   "cell_type": "code",
   "execution_count": 21,
   "id": "7f8c3fd5",
   "metadata": {},
   "outputs": [],
   "source": [
    "# Find the city with the highest average rating\n",
    "city_avg_rating= avg_rating_by_city.idxmax()"
   ]
  },
  {
   "cell_type": "code",
   "execution_count": 22,
   "id": "c152de60",
   "metadata": {},
   "outputs": [],
   "source": [
    "# Find the maximum average rating across all cities\n",
    "avg_rating = avg_rating_by_city.max()"
   ]
  },
  {
   "cell_type": "code",
   "execution_count": 23,
   "id": "876f9a8c",
   "metadata": {},
   "outputs": [
    {
     "name": "stdout",
     "output_type": "stream",
     "text": [
      "The city with the highest average rating is: \n",
      " Inner City 4.9\n"
     ]
    }
   ],
   "source": [
    "print('The city with the highest average rating is:',\"\\n\",city_avg_rating ,avg_rating)"
   ]
  },
  {
   "cell_type": "markdown",
   "id": "1a2ec1b9",
   "metadata": {},
   "source": [
    "# 6.Create a histogram or bar chart to visualize the distribution of price ranges among the restaurants."
   ]
  },
  {
   "cell_type": "code",
   "execution_count": 24,
   "id": "c890dd06",
   "metadata": {},
   "outputs": [
    {
     "data": {
      "text/plain": [
       "0       3\n",
       "1       3\n",
       "2       4\n",
       "3       4\n",
       "4       4\n",
       "       ..\n",
       "9546    3\n",
       "9547    3\n",
       "9548    4\n",
       "9549    4\n",
       "9550    2\n",
       "Name: Price range, Length: 9551, dtype: int64"
      ]
     },
     "execution_count": 24,
     "metadata": {},
     "output_type": "execute_result"
    }
   ],
   "source": [
    "data['Price range']"
   ]
  },
  {
   "cell_type": "code",
   "execution_count": 25,
   "id": "d780c4cf",
   "metadata": {},
   "outputs": [],
   "source": [
    "# Count the different price ranges\n",
    "count_price=data['Price range'].value_counts()"
   ]
  },
  {
   "cell_type": "code",
   "execution_count": 26,
   "id": "752b1c13",
   "metadata": {},
   "outputs": [
    {
     "data": {
      "image/png": "[encoded data removed]",
      "text/plain": [
       "<Figure size 640x480 with 1 Axes>"
      ]
     },
     "metadata": {},
     "output_type": "display_data"
    }
   ],
   "source": [
    "# Plot the bar chart\n",
    "plt.bar(count_price.index, count_price.values, color='skyblue', width = 0.4)\n",
    "plt.xlabel('Restaurant')\n",
    "plt.ylabel('Price range')\n",
    "plt.show()"
   ]
  },
  {
   "cell_type": "markdown",
   "id": "fb124a8f",
   "metadata": {},
   "source": [
    "# 7. Calculate the percentage of restaurants in each price range category."
   ]
  },
  {
   "cell_type": "code",
   "execution_count": 27,
   "id": "e8eaf72b",
   "metadata": {},
   "outputs": [
    {
     "data": {
      "text/plain": [
       "9551"
      ]
     },
     "execution_count": 27,
     "metadata": {},
     "output_type": "execute_result"
    }
   ],
   "source": [
    "#total restaurant\n",
    "count_price.sum()"
   ]
  },
  {
   "cell_type": "code",
   "execution_count": 28,
   "id": "070d104b",
   "metadata": {},
   "outputs": [
    {
     "data": {
      "text/plain": [
       "1    4444\n",
       "2    3113\n",
       "3    1408\n",
       "4     586\n",
       "Name: Price range, dtype: int64"
      ]
     },
     "execution_count": 28,
     "metadata": {},
     "output_type": "execute_result"
    }
   ],
   "source": [
    "# printing the count of prices\n",
    "count_price"
   ]
  },
  {
   "cell_type": "code",
   "execution_count": 29,
   "id": "bde8674a",
   "metadata": {},
   "outputs": [],
   "source": [
    "# Calculate the total number of restaurants\n",
    "total_restaurant = count_price.sum()"
   ]
  },
  {
   "cell_type": "code",
   "execution_count": 30,
   "id": "e31d2070",
   "metadata": {},
   "outputs": [],
   "source": [
    "# Calculate the percentage of each price range\n",
    "percentage = (count_price / total_restaurant)*100"
   ]
  },
  {
   "cell_type": "code",
   "execution_count": 31,
   "id": "437db29b",
   "metadata": {},
   "outputs": [
    {
     "name": "stdout",
     "output_type": "stream",
     "text": [
      "The percentage of restaurants in each price range category:\n",
      "1    46.529159\n",
      "2    32.593446\n",
      "3    14.741912\n",
      "4     6.135483\n",
      "Name: Price range, dtype: float64\n"
     ]
    }
   ],
   "source": [
    "# The percentage of restaurants in each price range category\n",
    "print(\"The percentage of restaurants in each price range category:\")\n",
    "print(percentage)"
   ]
  },
  {
   "cell_type": "markdown",
   "id": "4f57ba12",
   "metadata": {},
   "source": [
    "# 8.Determine the percentage of restaurants that offer online delivery."
   ]
  },
  {
   "cell_type": "code",
   "execution_count": 32,
   "id": "40c797da",
   "metadata": {},
   "outputs": [
    {
     "data": {
      "text/plain": [
       "0       No\n",
       "1       No\n",
       "2       No\n",
       "3       No\n",
       "4       No\n",
       "        ..\n",
       "9546    No\n",
       "9547    No\n",
       "9548    No\n",
       "9549    No\n",
       "9550    No\n",
       "Name: Has Online delivery, Length: 9551, dtype: object"
      ]
     },
     "execution_count": 32,
     "metadata": {},
     "output_type": "execute_result"
    }
   ],
   "source": [
    "# get the values of \"Has online delivery\"\n",
    "data['Has Online delivery']"
   ]
  },
  {
   "cell_type": "code",
   "execution_count": 33,
   "id": "38b82e4e",
   "metadata": {},
   "outputs": [],
   "source": [
    "# Converting the categorical data to numerical data for bertter calculation\n",
    "\n",
    "data['Has Online delivery']=data['Has Online delivery'].map({'Yes': 1, 'No': 0})"
   ]
  },
  {
   "cell_type": "code",
   "execution_count": 34,
   "id": "2ca1fcbf",
   "metadata": {},
   "outputs": [
    {
     "data": {
      "text/plain": [
       "0    7100\n",
       "1    2451\n",
       "Name: Has Online delivery, dtype: int64"
      ]
     },
     "execution_count": 34,
     "metadata": {},
     "output_type": "execute_result"
    }
   ],
   "source": [
    "# Counting the values of 1's and 0's\n",
    "\n",
    "data['Has Online delivery'].value_counts()"
   ]
  },
  {
   "cell_type": "code",
   "execution_count": 35,
   "id": "308ab8a8",
   "metadata": {},
   "outputs": [
    {
     "data": {
      "text/plain": [
       "2451"
      ]
     },
     "execution_count": 35,
     "metadata": {},
     "output_type": "execute_result"
    }
   ],
   "source": [
    "# Count the number of restaurants that offer online delivery (where 'Online Delivery' == 1)\n",
    "\n",
    "data['Has Online delivery'].sum()"
   ]
  },
  {
   "cell_type": "code",
   "execution_count": 36,
   "id": "3529f4bf",
   "metadata": {},
   "outputs": [],
   "source": [
    "# storing it in new variable\n",
    "\n",
    "restaurant_online_delivery = data['Has Online delivery'].sum()"
   ]
  },
  {
   "cell_type": "code",
   "execution_count": 37,
   "id": "f4de2a98",
   "metadata": {},
   "outputs": [],
   "source": [
    "# Calculate the total number of restaurants\n",
    "\n",
    "total_restaurant = len(data['Restaurant Name'])"
   ]
  },
  {
   "cell_type": "code",
   "execution_count": 38,
   "id": "40221558",
   "metadata": {},
   "outputs": [],
   "source": [
    "# Apply percentage formula\n",
    "percentage= (restaurant_online_delivery / total_restaurant)*100"
   ]
  },
  {
   "cell_type": "code",
   "execution_count": 39,
   "id": "4d5ea93f",
   "metadata": {},
   "outputs": [
    {
     "name": "stdout",
     "output_type": "stream",
     "text": [
      "The percentage of restaurants that offer online delivery.\n",
      "25.662234321013504\n"
     ]
    }
   ],
   "source": [
    "print(\"The percentage of restaurants that offer online delivery.\")\n",
    "print(percentage)"
   ]
  },
  {
   "cell_type": "markdown",
   "id": "8a3b7824",
   "metadata": {},
   "source": [
    "# 9.Compare the average ratings of restaurants with and without online delivery."
   ]
  },
  {
   "cell_type": "code",
   "execution_count": 40,
   "id": "a1a6157f",
   "metadata": {},
   "outputs": [
    {
     "data": {
      "text/plain": [
       "0    7100\n",
       "1    2451\n",
       "Name: Has Online delivery, dtype: int64"
      ]
     },
     "execution_count": 40,
     "metadata": {},
     "output_type": "execute_result"
    }
   ],
   "source": [
    "# Counting the values of 1's and 0's\n",
    "\n",
    "data['Has Online delivery'].value_counts()"
   ]
  },
  {
   "cell_type": "code",
   "execution_count": 41,
   "id": "8277c8a3",
   "metadata": {},
   "outputs": [],
   "source": [
    "# Calculate the restaurants without online delivery\n",
    "\n",
    "without_online_delivery=data[data['Has Online delivery']==0]"
   ]
  },
  {
   "cell_type": "code",
   "execution_count": 42,
   "id": "e84db140",
   "metadata": {},
   "outputs": [],
   "source": [
    "# Calculate the restaurants with online delivery\n",
    "\n",
    "with_online_delivery=data[data['Has Online delivery']==1]"
   ]
  },
  {
   "cell_type": "code",
   "execution_count": 43,
   "id": "a0c93d51",
   "metadata": {},
   "outputs": [],
   "source": [
    "# Calculate average rating for the restaurants without online delivery\n",
    "avg_without_online_delivery = without_online_delivery ['Aggregate rating'].mean"
   ]
  },
  {
   "cell_type": "code",
   "execution_count": 44,
   "id": "029cf910",
   "metadata": {},
   "outputs": [],
   "source": [
    "# Calculate average rating for the restaurants with online delivery\n",
    "\n",
    "avg_with_online_delivery = with_online_delivery ['Aggregate rating'].mean"
   ]
  },
  {
   "cell_type": "code",
   "execution_count": 45,
   "id": "4bc0efc9",
   "metadata": {},
   "outputs": [
    {
     "name": "stdout",
     "output_type": "stream",
     "text": [
      "The average ratings of restaurants without online delivery: <bound method NDFrame._add_numeric_operations.<locals>.mean of 0       4.8\n",
      "1       4.5\n",
      "2       4.4\n",
      "3       4.9\n",
      "4       4.8\n",
      "       ... \n",
      "9546    4.1\n",
      "9547    4.2\n",
      "9548    3.7\n",
      "9549    4.0\n",
      "9550    4.0\n",
      "Name: Aggregate rating, Length: 7100, dtype: float64>\n"
     ]
    }
   ],
   "source": [
    "# print for without online delivery\n",
    "print('The average ratings of restaurants without online delivery:',avg_without_online_delivery)"
   ]
  },
  {
   "cell_type": "code",
   "execution_count": 46,
   "id": "04b7a65b",
   "metadata": {},
   "outputs": [
    {
     "name": "stdout",
     "output_type": "stream",
     "text": [
      "The average ratings of restaurants with online delivery: <bound method NDFrame._add_numeric_operations.<locals>.mean of 565     4.6\n",
      "566     4.4\n",
      "571     4.4\n",
      "572     4.0\n",
      "573     3.6\n",
      "       ... \n",
      "9166    4.5\n",
      "9168    4.2\n",
      "9170    4.1\n",
      "9171    3.6\n",
      "9194    4.4\n",
      "Name: Aggregate rating, Length: 2451, dtype: float64>\n"
     ]
    }
   ],
   "source": [
    "# print for with online delivery\n",
    "print('The average ratings of restaurants with online delivery:',avg_with_online_delivery)"
   ]
  },
  {
   "cell_type": "markdown",
   "id": "7ddbd1ae",
   "metadata": {},
   "source": [
    "**Conclusion: This data analysis project serves as a comprehensive exploration of restaurant data, offering actionable insights into top cuisines, city-wise dynamics, price range distribution, and online delivery services. By leveraging these insights, stakeholders in the restaurant industry can formulate strategies that drive growth, enhance competitiveness, and cater to evolving consumer preferences in an ever-changing market landscape.**"
   ]
  },
  {
   "cell_type": "code",
   "execution_count": null,
   "id": "7489e332",
   "metadata": {},
   "outputs": [],
   "source": []
  }
 ],
 "metadata": {
  "kernelspec": {
   "display_name": "Python 3 (ipykernel)",
   "language": "python",
   "name": "python3"
  },
  "language_info": {
   "codemirror_mode": {
    "name": "ipython",
    "version": 3
   },
   "file_extension": ".py",
   "mimetype": "text/x-python",
   "name": "python",
   "nbconvert_exporter": "python",
   "pygments_lexer": "ipython3",
   "version": "3.11.4"
  }
 },
 "nbformat": 4,
 "nbformat_minor": 5
}
